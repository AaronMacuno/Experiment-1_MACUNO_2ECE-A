{
 "cells": [
  {
   "cell_type": "markdown",
   "id": "8c6945e7-1ebc-4b53-91df-8cdbd036830b",
   "metadata": {},
   "source": [
    "# EXPERIMENT 1\n",
    "## Name: Macuno, Aaron Josh F.\n",
    "## Section: 2ECE-A\n",
    "## Date Submitted: August 27, 2024\n",
    "\n",
    "### --------------------------------------------------------------------------------------------------------------------------------"
   ]
  },
  {
   "cell_type": "markdown",
   "id": "fb06704d-eb86-4e4d-8cdd-2896607cfa7e",
   "metadata": {},
   "source": [
    "### Problem 1 (ALPHABET SOUP PROBLEM)\n",
    "#### Create a function that takes a string and returns a string with its letters i alphabetical order"
   ]
  },
  {
   "cell_type": "code",
   "execution_count": 142,
   "id": "7aad0ce9-0f7f-4e6a-871f-bb2bc3eb10cc",
   "metadata": {},
   "outputs": [
    {
     "name": "stdin",
     "output_type": "stream",
     "text": [
      "Enter a word to arrange it in alphabetical order starbucks\n"
     ]
    },
    {
     "data": {
      "text/plain": [
       "'abckrsstu'"
      ]
     },
     "execution_count": 142,
     "metadata": {},
     "output_type": "execute_result"
    }
   ],
   "source": [
    "def problem1(word):\n",
    "    \n",
    "    #Sorting each letter in an alphabetical order\n",
    "    word = sorted(word)\n",
    "    \n",
    "    #Joining the sorted characters into one string\n",
    "    word2 = \"\".join(word)\n",
    "    \n",
    "    return word2\n",
    "\n",
    "#Inputting words/strings on word\n",
    "word = input(\"Enter a word to arrange it in alphabetical order\")\n",
    "problem1(word)"
   ]
  },
  {
   "cell_type": "code",
   "execution_count": null,
   "id": "f5c3edd5-ddaa-4711-859c-48c51c31ea8b",
   "metadata": {},
   "outputs": [],
   "source": []
  },
  {
   "cell_type": "markdown",
   "id": "dc0208da-0b2b-48c2-b6e2-f1f92e85f756",
   "metadata": {},
   "source": [
    "### Problem 2 (EMOTICON PROBLEM)\n",
    "#### Create a function that changes specific words ito emoticos. Given a sentence as a string, replace the words smile, grin, sad, and mad, with their correpeondig emoticon."
   ]
  },
  {
   "cell_type": "code",
   "execution_count": 144,
   "id": "72a84f6c-bb6d-4544-95b0-30ee2e98539a",
   "metadata": {},
   "outputs": [
    {
     "name": "stdin",
     "output_type": "stream",
     "text": [
      "Enter your sentence to emotify it I am mad at you!\n"
     ]
    },
    {
     "data": {
      "text/plain": [
       "'I am >:( at you!'"
      ]
     },
     "execution_count": 144,
     "metadata": {},
     "output_type": "execute_result"
    }
   ],
   "source": [
    "def emotify(emotion):\n",
    "\n",
    "#This function will replace the words with emoticons based on their respective codes\n",
    "    emotion = emotion.replace (\"smile\", \":)\")\n",
    "    emotion = emotion.replace (\"grin\", \":D\")\n",
    "    emotion = emotion.replace (\"sad\", \":((\")\n",
    "    emotion = emotion.replace (\"mad\", \">:(\")\n",
    "\n",
    "    return emotion\n",
    "\n",
    "#Inputting sentence/string inside sentence\n",
    "sentence = input(\"Enter your sentence to emotify it\")\n",
    "emotify (sentence)"
   ]
  },
  {
   "cell_type": "code",
   "execution_count": null,
   "id": "7b0bd415-d796-4bee-b728-0f098c26f2cd",
   "metadata": {},
   "outputs": [],
   "source": []
  },
  {
   "cell_type": "markdown",
   "id": "30a3c5a6-42af-4b66-b897-9da0294672c0",
   "metadata": {},
   "source": [
    "### Problem 3 (UNPACKING LIST PROBLEM)\n",
    "#### Unpack the list writeyourcodehere into three variables, being first, middle, and last, with middle being everything in between the first and last element. Then print all three variables."
   ]
  },
  {
   "cell_type": "code",
   "execution_count": 146,
   "id": "f58706ee-150b-45d1-9c99-4a0a3158f7a9",
   "metadata": {},
   "outputs": [
    {
     "name": "stdout",
     "output_type": "stream",
     "text": [
      "The variable first has: 1\n",
      "The variable middle has: [2, 3, 4, 5]\n",
      "The variable last has: 6\n"
     ]
    }
   ],
   "source": [
    "#Create a variable with multiple integers iside\n",
    "list = [1, 2, 3, 4, 5, 6]\n",
    "\n",
    "#The first variable will be used to store the first integer which is 1\n",
    "first = list[0]\n",
    "\n",
    "#The middle varialbe will be used to store all the integer in between the first and last which is 2, 3, 4, 5\n",
    "middle = list[1:-1]\n",
    "\n",
    "#The last variable will be used to store the last integet which is 6\n",
    "last = list[-1]\n",
    "\n",
    "#Printing the following text and corresponding variables\n",
    "print(\"The variable first has: \" + str(first))\n",
    "print(\"The variable middle has: \" + str(middle))\n",
    "print(\"The variable last has: \" + str(last))\n",
    "                                                    "
   ]
  },
  {
   "cell_type": "code",
   "execution_count": null,
   "id": "60fbbf74-a130-4b93-83c5-a89c21a43db6",
   "metadata": {},
   "outputs": [],
   "source": []
  }
 ],
 "metadata": {
  "kernelspec": {
   "display_name": "Python 3 (ipykernel)",
   "language": "python",
   "name": "python3"
  },
  "language_info": {
   "codemirror_mode": {
    "name": "ipython",
    "version": 3
   },
   "file_extension": ".py",
   "mimetype": "text/x-python",
   "name": "python",
   "nbconvert_exporter": "python",
   "pygments_lexer": "ipython3",
   "version": "3.12.4"
  }
 },
 "nbformat": 4,
 "nbformat_minor": 5
}
